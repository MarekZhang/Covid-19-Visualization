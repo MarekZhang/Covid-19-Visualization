{
 "cells": [
  {
   "cell_type": "code",
   "execution_count": 71,
   "metadata": {},
   "outputs": [],
   "source": [
    "import pandas as pd\n",
    "import datetime\n",
    "from typing import List\n",
    "import pyecharts.options as opts\n",
    "from pyecharts.globals import ThemeType\n",
    "from pyecharts.commons.utils import JsCode\n",
    "from pyecharts.charts import Timeline, Grid, Bar, Map, Pie, Line"
   ]
  },
  {
   "cell_type": "code",
   "execution_count": 72,
   "metadata": {},
   "outputs": [],
   "source": [
    "df = pd.read_csv('COVID-19.csv')"
   ]
  },
  {
   "cell_type": "code",
   "execution_count": 73,
   "metadata": {},
   "outputs": [],
   "source": [
    "#correspond with String provided by echart\n",
    "df['provinceName'] = df['provinceName'].apply(lambda y: y[:3] if y == '内蒙古自治区' or y == '黑龙江省' else y[:2])"
   ]
  },
  {
   "cell_type": "code",
   "execution_count": 74,
   "metadata": {},
   "outputs": [],
   "source": [
    "#List all the province in China 加台湾\n",
    "provinceName = [\"云南\", \"内蒙古\", \"北京\", \"吉林\", \"四川\",\"上海\",\n",
    "                \"宁夏\", \"安徽\", \"山东\",\"天津\", \"山西\", \"广东\",\n",
    "                \"江西\", \"广西\", \"新疆\", \"江苏\",  \"河北\", \"河南\",\n",
    "                \"浙江\", \"海南\", \"湖北\", \"湖南\", \"甘肃\", \"福建\",\n",
    "                \"西藏\", \"贵州\", \"辽宁\", \"重庆\", \"陕西\", \"青海\", \n",
    "                \"黑龙江\",\"台湾\", \"香港\", \"澳门\"]\n",
    "provinceDict = {\"云南\":\"YunNan\", \"内蒙古\":\"NeiMengGu\", \"北京\":\"BeiJing\", \"吉林\":\"JiLin\",\n",
    "                \"四川\":\"SiChuan\",\"上海\":\"ShangHai\",\"宁夏\":\"NingXia\", \"安徽\":\"AnHui\", \n",
    "                \"山东\":\"ShanDong\",\"天津\":\"TianJin\", \"山西\":\"ShanXi\", \"广东\":\"GuangDong\",\n",
    "                \"江西\":\"JiangXi\", \"广西\":\"GuangXi\", \"新疆\":\"XinJiang\", \"江苏\":\"JiangSu\",\n",
    "                \"河北\":\"HeBei\", \"河南\":\"HeNan\",\"浙江\":\"ZheJiang\", \"海南\":\"HaiNan\", \n",
    "                \"湖北\":\"HuBei\", \"湖南\":\"HuNan\", \"甘肃\":\"GanSu\", \"福建\":\"FuJian\",\n",
    "                \"西藏\":\"XiZang\", \"贵州\":\"GuiZhou\", \"辽宁\":\"LiaoNing\", \"重庆\":\"ChongQing\", \n",
    "                \"陕西\":\"ShanAnXi\", \"青海\":\"QingHai\", \"黑龙江\":\"HeiLongJiang\",\"台湾\":\"TaiWan\",\n",
    "                \"香港\":\"HongKong\", \"澳门\":\"Macao\",\"南海诸岛\":\"South China Sea Islands\"}\n",
    "#drop useless columns\n",
    "provinceName = [\"YunNan\", \"NeiMengGu\", \"BeiJing\", \"JiLin\",\n",
    "                \"SiChuan\",\"ShangHai\",\"NingXia\", \"AnHui\", \n",
    "                \"ShanDong\",\"TianJin\", \"ShanXi\", \"GuangDong\",\n",
    "                \"JiangXi\", \"GuangXi\", \"XinJiang\", \"JiangSu\",\n",
    "                \"HeBei\", \"HeNan\",\"ZheJiang\", \"HaiNan\", \n",
    "                \"HuBei\", \"HuNan\", \"GanSu\", \"FuJian\",\n",
    "                \"XiZang\", \"GuiZhou\", \"LiaoNing\", \"ChongQing\", \n",
    "                \"ShanAnXi\", \"QingHai\", \"HeiLongJiang\",\"TaiWan\",\n",
    "                \"HongKong\", \"Macao\"]\n",
    "\n",
    "\n",
    "df.drop(['cityName', 'city_confirmedCount', 'city_suspectedCount',\n",
    "         'city_curedCount', 'city_deadCount','continentName','continentEnglishName',\n",
    "         'province_zipCode','cityEnglishName', 'city_zipCode' ], inplace=True, axis=1)\n",
    "\n",
    "df['updateTime'] = pd.to_datetime(df['updateTime'])\n",
    "df['updateTime'] = df['updateTime'].apply(lambda x: datetime.datetime.strftime(x, '%m-%d'))"
   ]
  },
  {
   "cell_type": "code",
   "execution_count": 75,
   "metadata": {},
   "outputs": [],
   "source": [
    "#remove duplicate of updating information more than twice within one day\n",
    "df = df.drop_duplicates(subset=['provinceName', 'updateTime'], keep='first',inplace=False)"
   ]
  },
  {
   "cell_type": "code",
   "execution_count": 76,
   "metadata": {},
   "outputs": [],
   "source": [
    "Covid_df = df"
   ]
  },
  {
   "cell_type": "code",
   "execution_count": 77,
   "metadata": {},
   "outputs": [],
   "source": [
    "Covid_df = Covid_df.replace(provinceDict)"
   ]
  },
  {
   "cell_type": "code",
   "execution_count": 78,
   "metadata": {},
   "outputs": [],
   "source": [
    "indexOfForeign = Covid_df[Covid_df['countryName']!='中国'].index\n",
    "Covid_df.drop(indexOfForeign, inplace=True)"
   ]
  },
  {
   "cell_type": "code",
   "execution_count": 79,
   "metadata": {},
   "outputs": [
    {
     "data": {
      "text/plain": [
       "(1770, 10)"
      ]
     },
     "execution_count": 79,
     "metadata": {},
     "output_type": "execute_result"
    }
   ],
   "source": [
    "Covid_df.shape"
   ]
  },
  {
   "cell_type": "code",
   "execution_count": 80,
   "metadata": {},
   "outputs": [],
   "source": [
    "#remove duplicate that take China in the Province column\n",
    "indexOfProv = Covid_df[Covid_df['provinceName']=='中国'].index\n",
    "Covid_df.drop(indexOfProv, inplace=True)"
   ]
  },
  {
   "cell_type": "code",
   "execution_count": 81,
   "metadata": {},
   "outputs": [],
   "source": [
    "#Covid_df"
   ]
  },
  {
   "cell_type": "code",
   "execution_count": 82,
   "metadata": {},
   "outputs": [],
   "source": [
    "dateList = Covid_df['updateTime']"
   ]
  },
  {
   "cell_type": "code",
   "execution_count": 83,
   "metadata": {},
   "outputs": [],
   "source": [
    "dateList.drop_duplicates(inplace=True)"
   ]
  },
  {
   "cell_type": "code",
   "execution_count": 84,
   "metadata": {},
   "outputs": [],
   "source": [
    "dateList = dateList.to_list()\n",
    "# dateList"
   ]
  },
  {
   "cell_type": "code",
   "execution_count": 85,
   "metadata": {},
   "outputs": [],
   "source": [
    "Covid_df = Covid_df.dropna()"
   ]
  },
  {
   "cell_type": "code",
   "execution_count": 86,
   "metadata": {},
   "outputs": [],
   "source": [
    "temptProvList = []\n",
    "total_confirmed = []\n",
    "total_suspect = []\n",
    "total_dead = []\n",
    "total_cured = []\n",
    "date_used = []\n",
    "confirmed_cases_dict = {}\n",
    "suspected_dict = {}\n",
    "dead_dict = {}\n",
    "cured_dict = {}\n",
    "ordered_date_list = dateList\n",
    "ordered_date_list.reverse()\n",
    "# ordered_date_list"
   ]
  },
  {
   "cell_type": "code",
   "execution_count": 87,
   "metadata": {},
   "outputs": [],
   "source": [
    "def Reverse(lst):\n",
    "    return [ele for ele in reversed(lst)]\n",
    "time_list = Reverse(date_used)"
   ]
  },
  {
   "cell_type": "code",
   "execution_count": 88,
   "metadata": {},
   "outputs": [
    {
     "name": "stdout",
     "output_type": "stream",
     "text": [
      "01-22\n",
      "['JiangSu', 'QingHai', 'ShanAnXi', 'NeiMengGu', 'HuBei', 'XiZang', 'GanSu', 'XinJiang']\n",
      "01-23\n",
      "['HeBei', 'QingHai', 'TaiWan', 'HuBei', 'HeNan', 'XiZang', 'ShanXi', 'TianJin', 'NingXia', 'YunNan']\n",
      "01-24\n",
      "['XiZang']\n",
      "01-25\n",
      "['Macao', 'XiZang']\n",
      "01-26\n",
      "['HongKong', 'QingHai', 'XiZang', 'JiLin']\n",
      "01-27\n",
      "['XiZang']\n",
      "01-28\n",
      "['HongKong', 'QingHai', 'XiZang']\n",
      "01-29\n",
      "['TaiWan', 'Macao', 'QingHai']\n",
      "01-30\n",
      "['HongKong', 'Macao']\n",
      "01-31\n",
      "['Macao', 'XiZang']\n",
      "02-01\n",
      "['TaiWan', 'Macao', 'GuiZhou', 'XiZang']\n",
      "02-02\n",
      "['TaiWan']\n",
      "02-03\n",
      "['TaiWan', 'Macao', 'XiZang']\n",
      "02-04\n",
      "[]\n",
      "02-05\n",
      "['TaiWan', 'Macao', 'XiZang', 'NingXia']\n",
      "02-06\n",
      "['XiZang']\n",
      "02-07\n",
      "['TaiWan', 'Macao', 'QingHai', 'XiZang']\n",
      "02-08\n",
      "['XiZang', 'Macao', 'QingHai']\n",
      "02-09\n",
      "['XiZang', 'Macao', 'QingHai']\n",
      "02-10\n",
      "['TaiWan', 'Macao', 'QingHai', 'XiZang']\n",
      "02-11\n",
      "['TaiWan', 'Macao', 'NeiMengGu', 'XiZang']\n",
      "02-12\n",
      "['TaiWan']\n",
      "02-13\n",
      "[]\n",
      "02-14\n",
      "['XiZang', 'GanSu', 'Macao', 'QingHai']\n",
      "02-15\n",
      "['TaiWan', 'Macao', 'XiZang', 'HongKong']\n",
      "02-16\n",
      "['XiZang', 'QingHai', 'NingXia']\n",
      "02-17\n",
      "['XiZang', 'Macao', 'QingHai']\n",
      "02-18\n",
      "['TaiWan', 'Macao', 'XiZang']\n",
      "02-19\n",
      "['Macao', 'XiZang']\n",
      "02-20\n",
      "['XiZang', 'QingHai']\n",
      "02-21\n",
      "['Macao', 'XiZang']\n",
      "02-22\n",
      "['QingHai', 'TaiWan', 'Macao', 'XiZang', 'NingXia', 'GanSu']\n",
      "02-23\n",
      "[]\n",
      "02-24\n",
      "['XiZang', 'Macao', 'GuiZhou', 'QingHai']\n",
      "02-25\n",
      "['QingHai', 'NeiMengGu', 'XiZang', 'GanSu', 'XinJiang']\n",
      "02-26\n",
      "['XiZang', 'Macao', 'GuiZhou', 'QingHai']\n",
      "02-27\n",
      "['TaiWan', 'GanSu', 'QingHai', 'XiZang']\n",
      "02-28\n",
      "['QingHai', 'Macao', 'XiZang', 'LiaoNing', 'NingXia', 'GuiZhou']\n",
      "02-29\n",
      "['HongKong', 'QingHai', 'Macao', 'XiZang', 'GanSu', 'GuiZhou']\n",
      "03-01\n",
      "['QingHai', 'Macao', 'XiZang', 'NingXia', 'GuiZhou']\n",
      "03-02\n",
      "['HaiNan', 'QingHai', 'Macao', 'XiZang', 'TianJin']\n",
      "03-03\n",
      "['QingHai', 'ShanAnXi', 'XiZang', 'NingXia', 'JiLin', 'GuiZhou']\n",
      "03-04\n",
      "['QingHai', 'TaiWan', 'Macao', 'XiZang', 'TianJin', 'LiaoNing', 'GuiZhou', 'YunNan']\n",
      "03-05\n",
      "['QingHai', 'Macao', 'XiZang', 'LiaoNing', 'NingXia', 'GuiZhou', 'YunNan']\n",
      "03-06\n",
      "['HaiNan', 'QingHai', 'XiZang', 'ShanXi', 'TianJin', 'LiaoNing', 'GuiZhou']\n",
      "03-07\n",
      "['HaiNan', 'QingHai', 'ShanAnXi', 'TaiWan', 'Macao', 'XiZang', 'ShanXi', 'TianJin', 'NingXia', 'JiLin', 'YunNan', 'AnHui']\n",
      "03-08\n",
      "['HeBei', 'QingHai', 'Macao', 'XiZang', 'ShanXi', 'TianJin', 'NingXia', 'JiLin', 'YunNan', 'FuJian']\n",
      "03-09\n",
      "['HaiNan', 'HeBei', 'QingHai', 'ShanAnXi', 'NeiMengGu', 'Macao', 'HeNan', 'XiZang', 'LiaoNing', 'NingXia', 'XinJiang', 'YunNan', 'FuJian', 'AnHui']\n",
      "03-10\n",
      "['HaiNan', 'HeBei', 'QingHai', 'NeiMengGu', 'Macao', 'HeNan', 'XiZang', 'NingXia', 'JiLin', 'XinJiang', 'YunNan', 'FuJian', 'AnHui']\n",
      "03-11\n",
      "['JiangSu', 'HaiNan', 'HeBei', 'QingHai', 'Macao', 'XiZang', 'TianJin', 'LiaoNing', 'JiLin', 'XinJiang', 'YunNan', 'FuJian', 'AnHui']\n",
      "03-12\n",
      "['QingHai', 'NeiMengGu', 'Macao', 'XiZang', 'NingXia', 'GanSu', 'XinJiang', 'YunNan', 'FuJian', 'AnHui']\n",
      "03-13\n",
      "['HaiNan', 'QingHai', 'ShanAnXi', 'NeiMengGu', 'Macao', 'HeNan', 'XiZang', 'TianJin', 'LiaoNing', 'ZheJiang', 'NingXia', 'JiLin', 'GanSu', 'XinJiang', 'JiangXi', 'YunNan', 'FuJian', 'AnHui']\n",
      "03-14\n",
      "['JiangSu', 'HaiNan', 'HeBei', 'QingHai', 'ShanAnXi', 'NeiMengGu', 'Macao', 'XiZang', 'ShanXi', 'TianJin', 'GuangXi', 'JiLin', 'XinJiang', 'JiangXi', 'YunNan', 'FuJian', 'AnHui']\n",
      "03-15\n",
      "['QingHai', 'ShanDong', 'FuJian', 'ShanAnXi', 'Macao', 'NingXia', 'JiLin', 'HeNan', 'ShanXi', 'HuNan', 'XinJiang', 'GuiZhou', 'HaiNan', 'HeBei', 'NeiMengGu', 'XiZang', 'GuangXi', 'JiangXi', 'AnHui']\n",
      "03-16\n",
      "['JiangSu', 'HeBei', 'QingHai', 'ChongQing', 'HeNan', 'XiZang', 'SiChuan', 'ShanXi', 'TianJin', 'HuNan', 'JiLin', 'GanSu', 'XinJiang', 'JiangXi', 'FuJian', 'AnHui']\n",
      "03-17\n",
      "['JiangSu', 'HaiNan', 'HeBei', 'QingHai', 'ChongQing', 'NeiMengGu', 'HeNan', 'XiZang', 'ShanXi', 'TianJin', 'HuNan', 'NingXia', 'JiLin', 'GanSu', 'XinJiang', 'JiangXi', 'FuJian', 'AnHui']\n",
      "03-18\n",
      "['QingHai', 'ShanDong', 'FuJian', 'ChongQing', 'NingXia', 'JiLin', 'GanSu', 'YunNan', 'JiangSu', 'HeNan', 'ShanXi', 'TianJin', 'HuNan', 'XinJiang', 'HaiNan', 'HeBei', 'NeiMengGu', 'XiZang', 'ZheJiang', 'JiangXi', 'AnHui']\n",
      "03-19\n",
      "['QingHai', 'FuJian', 'ShanAnXi', 'ChongQing', 'LiaoNing', 'NingXia', 'JiLin', 'YunNan', 'JiangSu', 'HeNan', 'ShanXi', 'TianJin', 'HuNan', 'XinJiang', 'GuiZhou', 'HaiNan', 'HeBei', 'XiZang', 'GuangXi', 'JiangXi', 'AnHui']\n",
      "03-20\n",
      "['JiangSu', 'HaiNan', 'HeBei', 'JiangXi', 'QingHai', 'ChongQing', 'NeiMengGu', 'Macao', 'HeNan', 'XiZang', 'ShanXi', 'HuNan', 'NingXia', 'JiLin', 'XinJiang', 'GuiZhou', 'YunNan', 'AnHui']\n",
      "03-21\n",
      "['QingHai', 'ChongQing', 'Macao', 'LiaoNing', 'NingXia', 'JiLin', 'YunNan', 'JiangSu', 'HeNan', 'ShanXi', 'TianJin', 'HuNan', 'XinJiang', 'GuiZhou', 'HaiNan', 'HeBei', 'NeiMengGu', 'XiZang', 'GuangXi', 'HeiLongJiang', 'JiangXi', 'AnHui']\n",
      "03-22\n",
      "['HaiNan', 'QingHai', 'ShanAnXi', 'NeiMengGu', 'HeNan', 'XiZang', 'ShanXi', 'TianJin', 'HuNan', 'GuangXi', 'NingXia', 'JiLin', 'XinJiang', 'GuiZhou', 'YunNan', 'AnHui']\n",
      "03-23\n",
      "['HaiNan', 'QingHai', 'ShanAnXi', 'ChongQing', 'NeiMengGu', 'XiZang', 'SiChuan', 'ShanXi', 'HuNan', 'GuangXi', 'NingXia', 'JiLin', 'GanSu', 'XinJiang', 'GuiZhou', 'YunNan', 'AnHui']\n",
      "03-24\n",
      "['HeBei', 'JiangXi', 'QingHai', 'NeiMengGu', 'HeNan', 'XiZang', 'LiaoNing', 'HuNan', 'GuangXi', 'NingXia', 'JiLin', 'ShanDong', 'XinJiang', 'GuiZhou', 'YunNan', 'AnHui']\n",
      "03-25\n",
      "['QingHai', 'ChongQing', 'LiaoNing', 'NingXia', 'GanSu', 'YunNan', 'HeNan', 'ShanXi', 'TianJin', 'HuNan', 'XinJiang', 'GuiZhou', 'HaiNan', 'HeBei', 'XiZang', 'GuangXi', 'HeiLongJiang', 'JiangXi', 'AnHui']\n",
      "03-26\n",
      "['HaiNan', 'HeBei', 'QingHai', 'ChongQing', 'XiZang', 'SiChuan', 'HuNan', 'GuangXi', 'NingXia', 'XinJiang', 'JiangXi', 'GuiZhou', 'AnHui']\n",
      "03-27\n",
      "['HaiNan', 'HeBei', 'QingHai', 'ShanAnXi', 'ChongQing', 'HeNan', 'XiZang', 'ShanXi', 'HuNan', 'GuangXi', 'NingXia', 'JiLin', 'HeiLongJiang', 'XinJiang', 'JiangXi', 'GuiZhou', 'AnHui']\n",
      "03-28\n",
      "['QingHai', 'ShanDong', 'ShanAnXi', 'ChongQing', 'SiChuan', 'NingXia', 'YunNan', 'JiangSu', 'ShanXi', 'HuNan', 'XinJiang', 'GuiZhou', 'HaiNan', 'HeBei', 'XiZang', 'GuangXi', 'HeiLongJiang', 'JiangXi', 'AnHui']\n"
     ]
    }
   ],
   "source": [
    "for day in dateList:\n",
    "    date_used.append(day)\n",
    "    print(day)\n",
    "    df = Covid_df[Covid_df['updateTime'] == day]\n",
    "#     print(df)\n",
    "    for idx in df.index:\n",
    "        temptProvList.append(df.loc[idx, 'provinceName'])\n",
    "    #find out the province missing data in one single day\n",
    "    missingProvList = list( set(provinceName) - set(temptProvList))\n",
    "    print(missingProvList)\n",
    "    #find the num of confirmed suspected dead cured number of patients in previous day\n",
    "    missing_prov_found = False\n",
    "    prev_confirmed = 0\n",
    "    prev_suspected = 0\n",
    "    prev_cured = 0\n",
    "    prev_dead = 0\n",
    "    for prov in missingProvList:\n",
    "#         print(prov)\n",
    "        #return all days before current date\n",
    "        back_up_list = ordered_date_list[:ordered_date_list.index(day)]\n",
    "        back_up_list.reverse()\n",
    "        for date in back_up_list:\n",
    "#             print(\"missing date\" + date)\n",
    "            missing_prov_df = Covid_df[Covid_df['updateTime'] == date]\n",
    "            for i in missing_prov_df.index:\n",
    "                if str(missing_prov_df.loc[i,'provinceName']) == prov:\n",
    "#                     print(\"true\" + prov)\n",
    "                    missing_prov_found = True\n",
    "                    prev_confirmed = int(missing_prov_df.loc[i, 'province_confirmedCount'])\n",
    "                    prev_suspected = int(missing_prov_df.loc[i, 'province_suspectedCount'])\n",
    "                    prev_cured = int(missing_prov_df.loc[i, 'province_curedCount'])\n",
    "                    prev_dead = int(missing_prov_df.loc[i, 'province_deadCount'])\n",
    "#                     print(prov + \"confirmed\" + str(prev_confirmed))\n",
    "                    break\n",
    "            if missing_prov_found:\n",
    "                missing_prov_found = False\n",
    "#                 print(\"added\")\n",
    "#                 pd.DataFrame({\"provinceName\":prov, \n",
    "#                                     \"province_confirmedCount\":prev_confirmed,\n",
    "#                                     \"province_suspectedCount\":prev_suspected,\n",
    "#                                     \"province_curedCount\":prev_cured,\n",
    "#                                     \"province_deadCount\":prev_dead })\n",
    "                #add previous data to current date for missing prov\n",
    "                Covid_df = Covid_df.append({\"provinceName\":prov, \n",
    "                                    \"province_confirmedCount\":prev_confirmed,\n",
    "                                    \"province_suspectedCount\":prev_suspected,\n",
    "                                    \"province_curedCount\":prev_cured,\n",
    "                                    \"province_deadCount\":prev_dead,\n",
    "                                    \"updateTime\":day},ignore_index = True)\n",
    "#                 print(\"added\")\n",
    "                #bust break here or there would be multiple added value for missing province\n",
    "                break\n",
    "    temptProvList.clear()\n",
    "    confirmed_cases_dict[day] = df['province_confirmedCount'].sum()\n",
    "    suspected_dict[day] = df['province_suspectedCount'].sum()\n",
    "    dead_dict[day] = df['province_deadCount'].sum()\n",
    "    cured_dict[day] = df['province_curedCount'].sum()\n",
    "    \n",
    "    total_confirmed.append(confirmed_cases_dict[day])\n",
    "    total_cured.append(cured_dict[day])\n",
    "    total_dead.append(dead_dict[day])"
   ]
  },
  {
   "cell_type": "code",
   "execution_count": 89,
   "metadata": {},
   "outputs": [
    {
     "name": "stdout",
     "output_type": "stream",
     "text": [
      "67\n"
     ]
    }
   ],
   "source": [
    "print(len(total_dead))"
   ]
  },
  {
   "cell_type": "code",
   "execution_count": 90,
   "metadata": {},
   "outputs": [],
   "source": [
    "# confirmed_cases_dict"
   ]
  },
  {
   "cell_type": "code",
   "execution_count": 91,
   "metadata": {},
   "outputs": [],
   "source": [
    "MapData = []\n",
    "data = []"
   ]
  },
  {
   "cell_type": "code",
   "execution_count": 92,
   "metadata": {},
   "outputs": [
    {
     "name": "stdout",
     "output_type": "stream",
     "text": [
      "[]\n"
     ]
    }
   ],
   "source": [
    "time_list.sort()\n",
    "print(time_list)"
   ]
  },
  {
   "cell_type": "code",
   "execution_count": 93,
   "metadata": {},
   "outputs": [
    {
     "name": "stderr",
     "output_type": "stream",
     "text": [
      "/Users/zhangbowen/opt/anaconda3/lib/python3.7/site-packages/ipykernel_launcher.py:3: SettingWithCopyWarning: \n",
      "A value is trying to be set on a copy of a slice from a DataFrame.\n",
      "Try using .loc[row_indexer,col_indexer] = value instead\n",
      "\n",
      "See the caveats in the documentation: http://pandas.pydata.org/pandas-docs/stable/user_guide/indexing.html#returning-a-view-versus-a-copy\n",
      "  This is separate from the ipykernel package so we can avoid doing imports until\n"
     ]
    }
   ],
   "source": [
    "for day in dateList:\n",
    "    df = Covid_df[Covid_df['updateTime'] == day]\n",
    "    df['proportion'] = df['province_confirmedCount'] / confirmed_cases_dict[day]\n",
    "    for idx in df.index:\n",
    "        data.append({'name': df.loc[idx, 'provinceName'], 'value': [int(\n",
    "            df.loc[idx, 'province_confirmedCount']), float(df.loc[idx, 'proportion']),\n",
    "            str(df.loc[idx, 'provinceName']),df.loc[idx, 'province_suspectedCount'],\n",
    "            df.loc[idx, 'province_curedCount'],df.loc[idx, 'province_deadCount']]})\n",
    "    data = sorted(data, key=lambda x: -x['value'][1])\n",
    "    MapData.append({'time': day, 'data': list(data)})\n",
    "    data.clear()"
   ]
  },
  {
   "cell_type": "code",
   "execution_count": 94,
   "metadata": {},
   "outputs": [],
   "source": [
    "#  print(MapData)\n"
   ]
  },
  {
   "cell_type": "code",
   "execution_count": 185,
   "metadata": {},
   "outputs": [],
   "source": [
    "confirmed_list =[]\n",
    "for num in total_confirmed:\n",
    "    confirmed_list.append(int(num))\n",
    "\n",
    "cured_List = []\n",
    "for num in total_cured:\n",
    "    cured_List.append(int(num))\n",
    "    \n",
    "dead_List = []\n",
    "for num in total_dead:\n",
    "    dead_List.append(int(num))\n",
    "    \n",
    "def render_chart(day:str):\n",
    "    map_data = [\n",
    "        [[x[\"name\"], x[\"value\"]] for x in d[\"data\"]] for d in MapData if d[\"time\"] == day\n",
    "    ][0]\n",
    "    \n",
    "#   https://pyecharts.org/#/zh-cn/global_options?id=visualmapopts%ef%bc%9a%e8%a7%86%e8%a7%89%e6%98%a0%e5%b0%84%e9%85%8d%e7%bd%ae%e9%a1%b9\n",
    "    map_chart = (\n",
    "        Map()\n",
    "        .set_global_opts(\n",
    "            title_opts=opts.TitleOpts(\n",
    "                title = \"China Covid-19 Tracking Project\",\n",
    "                subtitle = \"How Covid-19 spread in China in more than two months\",\n",
    "                pos_left = 'center',\n",
    "                pos_top=\"top\",\n",
    "                title_textstyle_opts = opts.TextStyleOpts(\n",
    "                    font_size=30, color=\"#1A5276\"\n",
    "                    ),\n",
    "            ),\n",
    "#             visualmap_opts = opts.VisualMapOpts(\n",
    "#                 is_calculable=True,\n",
    "#                 dimension=0,\n",
    "#                 pos_left=\"30\",\n",
    "#                 pos_top=\"center\",\n",
    "#                 range_text=[\"Severe\", \"Mild\"],\n",
    "#                 range_color=[\"#A3E4D7\", \"#F39C12\", \"#E74C3C\"],\n",
    "#                 textstyle_opts=opts.TextStyleOpts(color=\"#1A5276\"),\n",
    "#                 min_=0,\n",
    "#                 max_=2000,\n",
    "#             )\n",
    "        )\n",
    "        .add(\n",
    "            series_name=\"\",\n",
    "            data_pair=map_data,\n",
    "            name_map = provinceDict,\n",
    "            zoom=0.9,\n",
    "            center=[125, 35],\n",
    "            is_map_symbol_show=True,\n",
    "            itemstyle_opts={\n",
    "                \"normal\": {\"areaColor\": \"#D1F2EB\", \"borderColor\": \"#20252C\"},\n",
    "                \"emphasis\": {\n",
    "                    \"label\": {\"show\": Timeline},\n",
    "                    \"areaColor\": \"rgba(255,255,255, 0.5)\",\n",
    "                },\n",
    "            },\n",
    "        )\n",
    "    )\n",
    "    \n",
    "    line_chart = (\n",
    "        Line()\n",
    "        .add_xaxis(xaxis_data=ordered_date_list)\n",
    "        .add_yaxis(series_name=\"confirmed\",y_axis=confirmed_list,\n",
    "                   areastyle_opts=opts.AreaStyleOpts(opacity=0.2),symbol='rect',symbol_size=5)\n",
    "        .add_yaxis(series_name=\"cured\",y_axis=cured_List,\n",
    "                   areastyle_opts=opts.AreaStyleOpts(opacity=0.3),symbol='arrow',symbol_size=5)\n",
    "        .add_yaxis(series_name=\"dead\",y_axis=dead_List,\n",
    "                   areastyle_opts=opts.AreaStyleOpts(opacity=1),symbol_size=5)\n",
    "        .set_series_opts(label_opts=opts.LabelOpts(is_show=False))\n",
    "        .set_global_opts(\n",
    "            title_opts=opts.TitleOpts(\n",
    "                title=\"Number of 'Confirmed' 'Cured' 'Dead' cases\", pos_left=\"72%\", pos_top=\"5%\",\n",
    "                title_textstyle_opts = opts.TextStyleOpts(font_size=15, color=\"#1A5276\")\n",
    "                \n",
    "            ),\n",
    "            visualmap_opts = opts.VisualMapOpts(\n",
    "                    is_calculable=True,\n",
    "                    dimension=0,\n",
    "                    pos_left=\"30\",\n",
    "                    pos_top=\"center\",\n",
    "                    range_text=[\"Severe\", \"Mild\"],\n",
    "                    range_color=[\"#A3E4D7\", \"#F39C12\", \"#E74C3C\"],\n",
    "                    textstyle_opts=opts.TextStyleOpts(color=\"#1A5276\"),\n",
    "                    min_=0,\n",
    "                    max_=2000,\n",
    "            ),\n",
    "            legend_opts = opts.LegendOpts(\n",
    "                is_show = False\n",
    "            )\n",
    "        )\n",
    "    )\n",
    "    pie_data = [[x[0], x[1][0]] for x in map_data]\n",
    "    pie = (\n",
    "        Pie()\n",
    "        .add(\n",
    "            series_name=\"\",\n",
    "            data_pair=pie_data,\n",
    "            radius=[\"10%\", \"25%\"],\n",
    "            center=[\"80%\", \"70%\"],\n",
    "            itemstyle_opts=opts.ItemStyleOpts(\n",
    "                border_width=1, border_color=\"rgba(0,0,0,0.5)\"\n",
    "            ),\n",
    "        )\n",
    "        .set_global_opts(\n",
    "            tooltip_opts=opts.TooltipOpts(is_show=True, formatter=\"{b} {d}%\"),\n",
    "            legend_opts=opts.LegendOpts(is_show=False),\n",
    "            visualmap_opts = opts.VisualMapOpts(\n",
    "                is_calculable=True,\n",
    "                dimension=0,\n",
    "                pos_left=\"30\",\n",
    "                pos_top=\"center\",\n",
    "                range_text=[\"Severe\", \"Mild\"],\n",
    "                range_color=[\"#85C1E9\", \"#F39C12\", \"#E74C3C\"],\n",
    "                textstyle_opts=opts.TextStyleOpts(color=\"#1A5276\"),\n",
    "                min_=0,\n",
    "                max_=2000,\n",
    "            )\n",
    "        \n",
    "        )\n",
    "    )\n",
    "#     sumsss = []\n",
    "#     for num in total_confirmed:\n",
    "#         sumsss.append(int(num))\n",
    "#     line_chart = (\n",
    "#         Line()\n",
    "#         .add_xaxis(ordered_date_list)\n",
    "#         .add_yaxis(\"\", sumsss)\n",
    "#     )\n",
    "    grid_chart = (\n",
    "        Grid()\n",
    "        .add(line_chart,grid_opts=opts.GridOpts(pos_left=\"63%\", pos_right=\"75\", pos_top=\"12%\", pos_bottom=\"66%\") )\n",
    "        .add(pie, grid_opts=opts.GridOpts(pos_left=\"80%\", pos_top=\"15%\"))\n",
    "        .add(map_chart, grid_opts=opts.GridOpts())\n",
    "\n",
    "    )\n",
    "\n",
    "    return grid_chart"
   ]
  },
  {
   "cell_type": "code",
   "execution_count": 187,
   "metadata": {},
   "outputs": [],
   "source": [
    "if __name__ == '__main__':\n",
    "    timeline = Timeline(\n",
    "        init_opts=opts.InitOpts(\n",
    "            width=\"1800px\", height=\"900px\", theme=\"#7FB3D5\")\n",
    "    )\n",
    "    for y in ordered_date_list:\n",
    "        g = render_chart(day=y)\n",
    "        timeline.add(g, time_point=str(y))\n",
    "\n",
    "    \n",
    "    timeline.add_schema(\n",
    "        orient=\"horizontal\",\n",
    "        is_auto_play=True,\n",
    "        is_inverse=False,\n",
    "        play_interval=1200,\n",
    "        pos_left=\"center\",\n",
    "        pos_right=\"null\",\n",
    "#         pos_top=\"20\",\n",
    "        pos_bottom=\"20\",\n",
    "        width=\"1500\",\n",
    "        label_opts=opts.LabelOpts(is_show=True, color=\"#1A5276\"),\n",
    "    )\n",
    "\n",
    "    timeline.render(\"Covid-19-Vis.html\")\n",
    "#     print(MapData)"
   ]
  },
  {
   "cell_type": "code",
   "execution_count": null,
   "metadata": {},
   "outputs": [],
   "source": []
  },
  {
   "cell_type": "code",
   "execution_count": 97,
   "metadata": {},
   "outputs": [],
   "source": []
  },
  {
   "cell_type": "code",
   "execution_count": 98,
   "metadata": {},
   "outputs": [],
   "source": []
  },
  {
   "cell_type": "code",
   "execution_count": null,
   "metadata": {},
   "outputs": [],
   "source": []
  },
  {
   "cell_type": "code",
   "execution_count": null,
   "metadata": {},
   "outputs": [],
   "source": []
  },
  {
   "cell_type": "code",
   "execution_count": null,
   "metadata": {},
   "outputs": [],
   "source": []
  },
  {
   "cell_type": "code",
   "execution_count": null,
   "metadata": {},
   "outputs": [],
   "source": []
  },
  {
   "cell_type": "code",
   "execution_count": null,
   "metadata": {},
   "outputs": [],
   "source": []
  }
 ],
 "metadata": {
  "kernelspec": {
   "display_name": "Python 3",
   "language": "python",
   "name": "python3"
  },
  "language_info": {
   "codemirror_mode": {
    "name": "ipython",
    "version": 3
   },
   "file_extension": ".py",
   "mimetype": "text/x-python",
   "name": "python",
   "nbconvert_exporter": "python",
   "pygments_lexer": "ipython3",
   "version": "3.7.4"
  }
 },
 "nbformat": 4,
 "nbformat_minor": 2
}
